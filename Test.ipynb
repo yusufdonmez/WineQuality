{
 "cells": [
  {
   "cell_type": "code",
   "execution_count": 36,
   "metadata": {},
   "outputs": [
    {
     "name": "stdout",
     "output_type": "stream",
     "text": [
      "my_data:  (1599, 12)\n",
      "train:  (1200, 12)\n",
      "test:  (399, 12)\n",
      "train_input shape:  (1200, 11)\n",
      "train_target shape:  (1200, 1)\n"
     ]
    },
    {
     "data": {
      "text/plain": [
       "array([[0.35526316, 0.28873239, 0.26923077, ..., 0.24778761, 0.17708333,\n",
       "        0.23636364],\n",
       "       [0.38157895, 0.12676056, 0.46153846, ..., 0.34513274, 0.17708333,\n",
       "        0.49090909],\n",
       "       [0.47368421, 0.18309859, 0.5       , ..., 0.4159292 , 0.33333333,\n",
       "        0.58181818],\n",
       "       ...,\n",
       "       [0.17105263, 0.24647887, 0.16666667, ..., 0.47787611, 0.39583333,\n",
       "        0.45454545],\n",
       "       [0.11842105, 0.3415493 , 0.15384615, ..., 0.61061947, 0.35416667,\n",
       "        0.30909091],\n",
       "       [0.13157895, 0.1056338 , 0.6025641 , ..., 0.45132743, 0.30208333,\n",
       "        0.45454545]])"
      ]
     },
     "execution_count": 36,
     "metadata": {},
     "output_type": "execute_result"
    }
   ],
   "source": [
    "\n",
    "from numpy import genfromtxt\n",
    "my_data = genfromtxt('winequality-red.csv', delimiter=';',skip_header=1)\n",
    "\n",
    "train = my_data[:1200,:]\n",
    "test = my_data[1200:,:]\n",
    "train_input = train[:,:11]\n",
    "train_target= train[:,11:]\n",
    "test_input = test[:,:11]\n",
    "test_target = test[:, 11:]\n",
    "\n",
    "print(\"my_data: \",my_data.shape)\n",
    "print(\"train: \", train.shape)\n",
    "print(\"test: \", test.shape)\n",
    "print(\"train_input shape: \",train_input.shape)\n",
    "print(\"train_target shape: \",train_target.shape)\n",
    "test_target/10\n",
    "norm(test_input)"
   ]
  },
  {
   "cell_type": "code",
   "execution_count": 32,
   "metadata": {},
   "outputs": [],
   "source": [
    "import numpy as np\n",
    "def norm(dizi):\n",
    "    Maxs = np.amax(dizi,axis=0)\n",
    "    Mins = np.amin(dizi,axis=0)\n",
    "    A = []\n",
    "    for d in dizi:\n",
    "        a = []\n",
    "        for i in range(d.shape[0]):\n",
    "            new = (d[i]-Mins[i])/(Maxs[i]-Mins[i])\n",
    "            a.append(new)\n",
    "        A.append(a)\n",
    "    New = np.array(A)\n",
    "    return New"
   ]
  },
  {
   "cell_type": "markdown",
   "metadata": {},
   "source": [
    "norm()"
   ]
  },
  {
   "cell_type": "code",
   "execution_count": 46,
   "metadata": {},
   "outputs": [
    {
     "name": "stdout",
     "output_type": "stream",
     "text": [
      "[(3, 5), (5, 1)]\n",
      "[array([[-0.00462869,  0.00353842, -0.01212682, -0.02243934],\n",
      "       [-0.00589828,  0.00728651,  0.00585718, -0.01134215],\n",
      "       [-0.01000121,  0.0039124 ,  0.00635745, -0.00641613],\n",
      "       [-0.00546256,  0.00457155, -0.00922819, -0.00671843],\n",
      "       [ 0.00222091, -0.00071873, -0.00234562,  0.00236024]]), array([[-0.00172878,  0.00170762, -0.01529696, -0.01187562, -0.00672897,\n",
      "         0.00308554]])]\n"
     ]
    }
   ],
   "source": [
    "layerSize = (3,5,1)\n",
    "_previousWeightDelta = []\n",
    "weights = []\n",
    "len(layersize)\n",
    "print(list(zip(layerSize[:-1], layerSize[1:])))\n",
    "\n",
    "for (l1,l2) in zip(layerSize[:-1], layerSize[1:]):\n",
    "    #print(\"l1: {0}, l2: {1}\".format(l1,l2))\n",
    "    weights.append(np.random.normal(scale=0.01, size = (l2, l1+1)))\n",
    "    #_previousWeightDelta.append(np.zeros((l2, l1+1)))\n",
    "print(weights)"
   ]
  },
  {
   "cell_type": "code",
   "execution_count": 49,
   "metadata": {},
   "outputs": [],
   "source": [
    "def Sor(h,w,s):\n",
    "    inp = []\n",
    "    i = []\n",
    "    i.append(h)\n",
    "    i.append(w)\n",
    "    i.append(s)\n",
    "    inp.append(i)\n",
    "    return inp"
   ]
  },
  {
   "cell_type": "code",
   "execution_count": 71,
   "metadata": {},
   "outputs": [
    {
     "ename": "TypeError",
     "evalue": "'function' object is not subscriptable",
     "output_type": "error",
     "traceback": [
      "\u001b[1;31m---------------------------------------------------------------------------\u001b[0m",
      "\u001b[1;31mTypeError\u001b[0m                                 Traceback (most recent call last)",
      "\u001b[1;32m<ipython-input-71-437eefbeb684>\u001b[0m in \u001b[0;36m<module>\u001b[1;34m()\u001b[0m\n\u001b[0;32m      4\u001b[0m \u001b[0marr\u001b[0m \u001b[1;33m=\u001b[0m \u001b[0mnp\u001b[0m\u001b[1;33m.\u001b[0m\u001b[0marray\u001b[0m\u001b[1;33m(\u001b[0m\u001b[0mlist1\u001b[0m\u001b[1;33m)\u001b[0m\u001b[1;33m\u001b[0m\u001b[0m\n\u001b[0;32m      5\u001b[0m \u001b[0marr\u001b[0m\u001b[1;33m.\u001b[0m\u001b[0mshape\u001b[0m\u001b[1;33m[\u001b[0m\u001b[1;36m1\u001b[0m\u001b[1;33m]\u001b[0m\u001b[1;33m\u001b[0m\u001b[0m\n\u001b[1;32m----> 6\u001b[1;33m \u001b[0mnp\u001b[0m\u001b[1;33m.\u001b[0m\u001b[0mappend\u001b[0m\u001b[1;33m[\u001b[0m\u001b[0marr\u001b[0m\u001b[1;33m,\u001b[0m\u001b[1;33m[\u001b[0m\u001b[1;36m4\u001b[0m\u001b[1;33m,\u001b[0m\u001b[1;36m5\u001b[0m\u001b[1;33m,\u001b[0m\u001b[1;36m6\u001b[0m\u001b[1;33m]\u001b[0m\u001b[1;33m]\u001b[0m\u001b[1;33m\u001b[0m\u001b[0m\n\u001b[0m\u001b[0;32m      7\u001b[0m \u001b[0marr\u001b[0m\u001b[1;33m\u001b[0m\u001b[0m\n\u001b[0;32m      8\u001b[0m \u001b[1;33m\u001b[0m\u001b[0m\n",
      "\u001b[1;31mTypeError\u001b[0m: 'function' object is not subscriptable"
     ]
    }
   ],
   "source": [
    "list = [1,2,3]\n",
    "list1= []\n",
    "list1.append(list)\n",
    "arr = np.array(list1)\n",
    "arr.shape[1]\n",
    "np.append[arr,[4,5,6]]\n",
    "arr\n",
    "\n"
   ]
  },
  {
   "cell_type": "code",
   "execution_count": 41,
   "metadata": {},
   "outputs": [
    {
     "data": {
      "text/plain": [
       "0.1"
      ]
     },
     "execution_count": 41,
     "metadata": {},
     "output_type": "execute_result"
    }
   ],
   "source": [
    "sayi = 1e-1\n",
    "sayi"
   ]
  },
  {
   "cell_type": "code",
   "execution_count": null,
   "metadata": {},
   "outputs": [],
   "source": []
  }
 ],
 "metadata": {
  "kernelspec": {
   "display_name": "Python 3",
   "language": "python",
   "name": "python3"
  },
  "language_info": {
   "codemirror_mode": {
    "name": "ipython",
    "version": 3
   },
   "file_extension": ".py",
   "mimetype": "text/x-python",
   "name": "python",
   "nbconvert_exporter": "python",
   "pygments_lexer": "ipython3",
   "version": "3.6.4"
  }
 },
 "nbformat": 4,
 "nbformat_minor": 2
}
